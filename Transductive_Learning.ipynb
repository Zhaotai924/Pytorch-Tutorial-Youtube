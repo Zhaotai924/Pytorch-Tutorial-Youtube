{
  "nbformat": 4,
  "nbformat_minor": 0,
  "metadata": {
    "colab": {
      "provenance": [],
      "authorship_tag": "ABX9TyPJMYlJIX/q292tWdQOpdKt",
      "include_colab_link": true
    },
    "kernelspec": {
      "name": "python3",
      "display_name": "Python 3"
    },
    "language_info": {
      "name": "python"
    }
  },
  "cells": [
    {
      "cell_type": "markdown",
      "metadata": {
        "id": "view-in-github",
        "colab_type": "text"
      },
      "source": [
        "<a href=\"https://colab.research.google.com/github/Zhaotai924/Pytorch-Tutorial-Youtube/blob/main/Transductive_Learning.ipynb\" target=\"_parent\"><img src=\"https://colab.research.google.com/assets/colab-badge.svg\" alt=\"Open In Colab\"/></a>"
      ]
    },
    {
      "cell_type": "code",
      "execution_count": 14,
      "metadata": {
        "id": "0vMuXarGw-4Y"
      },
      "outputs": [],
      "source": [
        "import numpy as np\n",
        "from sklearn.feature_extraction.text import TfidfVectorizer\n",
        "from sklearn.semi_supervised import LabelPropagation\n",
        "\n",
        "# Sample data\n",
        "labeled_docs = [\n",
        "    \"football match\", \"basketball game\", \"tech conference\", \"new technology\",\n",
        "    \"soccer team\", \"baseball tournament\", \"latest gadget\", \"innovation in tech\"\n",
        "]\n",
        "labels = [0, 0, 1, 1, 0, 0, 1, 1]  # 0: Sports, 1: Tech\n",
        "\n",
        "unlabeled_docs = [\n",
        "    \"innovation in football\", \"basketball technology\", \"tech soccer\",\n",
        "    \"new baseball gadget\", \"team conference\", \"gadget competition\"\n",
        "]\n",
        "\n",
        "# Combine labeled and unlabeled data\n",
        "all_docs = labeled_docs + unlabeled_docs\n",
        "\n",
        "# Convert text data to TF-IDF features\n",
        "vectorizer = TfidfVectorizer()\n",
        "X = vectorizer.fit_transform(all_docs)\n",
        "# Convert sparse matrix to dense array\n",
        "X_dense = X.toarray() # Convert the sparse matrix to a dense NumPy array\n",
        "\n",
        "# Convert sparse matrix to dense array\n",
        "X_dense = X.toarray() # Convert the sparse matrix to a dense NumPy array"
      ]
    },
    {
      "cell_type": "markdown",
      "source": [
        "The shape of X_dense is determined by two factors:\n",
        "\n",
        "Number of Documents: This is the total number of documents you have in all_docs (both labeled and unlabeled). Each document becomes a row in the X_dense matrix.\n",
        "\n",
        "Size of Vocabulary: This is the number of unique words (or tokens) present in your entire corpus after the TfidfVectorizer analyzes and tokenizes the text. Each unique word becomes a column in the X_dense matrix.\n",
        "\n",
        "In essence, X_dense is a numerical representation of your text data, where:\n",
        "\n",
        "Each row corresponds to a document.\n",
        "Each column corresponds to a unique word in your vocabulary.\n",
        "The values in the matrix represent the TF-IDF score of each word in each document.\n",
        "To illustrate with your example:\n",
        "\n",
        "You have 14 documents (8 labeled + 6 unlabeled).\n",
        "Let's say the TfidfVectorizer identifies 16 unique words in your corpus.\n",
        "Therefore, the shape of X_dense would be (14, 16)."
      ],
      "metadata": {
        "id": "OUfuHa0C6hZK"
      }
    },
    {
      "cell_type": "code",
      "source": [
        "# Create labels array with -1 for unlabeled data\n",
        "all_labels = np.concatenate([labels, -1 * np.ones(len(unlabeled_docs))])\n",
        "\n",
        "# Apply Label Propagation\n",
        "label_prop_model = LabelPropagation()\n",
        "label_prop_model.fit(X_dense, all_labels) # Use the dense array here\n",
        "\n",
        "# Predict labels for unlabeled data\n",
        "predicted_labels = label_prop_model.transduction_[-len(unlabeled_docs):]"
      ],
      "metadata": {
        "colab": {
          "base_uri": "https://localhost:8080/"
        },
        "id": "8CI6D0cV7Ttg",
        "outputId": "047e725a-9924-43b2-bc62-567c41ec1ca9"
      },
      "execution_count": 15,
      "outputs": [
        {
          "output_type": "execute_result",
          "data": {
            "text/plain": [
              "array([1., 1., 0., 1., 1., 1.])"
            ]
          },
          "metadata": {},
          "execution_count": 15
        }
      ]
    },
    {
      "cell_type": "markdown",
      "source": [
        "n your code, label_prop_model is an instance of the LabelPropagation class from scikit-learn. This class implements a semi-supervised machine learning algorithm called Label Propagation.\n",
        "\n",
        "What is Label Propagation?\n",
        "\n",
        "Label Propagation is a technique used to assign labels to unlabeled data points based on the labels of a smaller set of labeled data points. It's based on the idea that data points that are \"close\" to each other in some feature space are likely to share the same label.\n",
        "\n",
        "How does it work (in a simplified way)?\n",
        "\n",
        "Graph Construction: The algorithm constructs a graph where each data point (both labeled and unlabeled) is a node. Edges between nodes represent the similarity or proximity between data points.\n",
        "\n",
        "Label Propagation: The algorithm iteratively propagates labels from the labeled nodes to the unlabeled nodes. In each iteration, the label of an unlabeled node is updated based on the labels of its neighbors, weighted by their similarity.\n",
        "\n",
        "Convergence: The process continues until the labels of the unlabeled nodes stabilize, meaning they no longer change significantly between iterations.\n",
        "\n",
        "In your code:\n",
        "\n",
        "You use label_prop_model.fit(X_dense, all_labels) to train the Label Propagation model on your data:\n",
        "\n",
        "X_dense: This is the dense NumPy array representing your text data (TF-IDF features).\n",
        "all_labels: This is an array containing the labels for the labeled data points and -1 for the unlabeled data points.\n",
        "After training, label_prop_model learns how to propagate labels from the labeled data to the unlabeled data. You then use label_prop_model.transduction_ to get the predicted labels for the unlabeled data points.\n",
        "\n"
      ],
      "metadata": {
        "id": "rWVnsMhA7QJF"
      }
    },
    {
      "cell_type": "code",
      "source": [
        "# Output results\n",
        "for doc, label in zip(unlabeled_docs, predicted_labels):\n",
        "    print(f\"Document: '{doc}' => Predicted Label: {label}\")"
      ],
      "metadata": {
        "colab": {
          "base_uri": "https://localhost:8080/"
        },
        "id": "GAM-ajNq5U7H",
        "outputId": "75d148c5-75c4-4678-bb65-5abe99724345"
      },
      "execution_count": 16,
      "outputs": [
        {
          "output_type": "stream",
          "name": "stdout",
          "text": [
            "Document: 'innovation in football' => Predicted Label: 1.0\n",
            "Document: 'basketball technology' => Predicted Label: 1.0\n",
            "Document: 'tech soccer' => Predicted Label: 0.0\n",
            "Document: 'new baseball gadget' => Predicted Label: 1.0\n",
            "Document: 'team conference' => Predicted Label: 1.0\n",
            "Document: 'gadget competition' => Predicted Label: 1.0\n"
          ]
        }
      ]
    }
  ]
}