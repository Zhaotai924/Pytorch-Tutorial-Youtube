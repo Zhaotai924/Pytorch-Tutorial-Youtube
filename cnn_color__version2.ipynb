{
  "cells": [
    {
      "cell_type": "markdown",
      "metadata": {
        "id": "view-in-github",
        "colab_type": "text"
      },
      "source": [
        "<a href=\"https://colab.research.google.com/github/Zhaotai924/Pytorch-Tutorial-Youtube/blob/main/cnn_color__version2.ipynb\" target=\"_parent\"><img src=\"https://colab.research.google.com/assets/colab-badge.svg\" alt=\"Open In Colab\"/></a>"
      ]
    },
    {
      "cell_type": "code",
      "source": [
        "from google.colab import drive\n",
        "drive.mount('/content/drive')"
      ],
      "metadata": {
        "colab": {
          "base_uri": "https://localhost:8080/"
        },
        "id": "fscf8h055W74",
        "outputId": "07974b18-a470-4591-f736-94cea52c5238"
      },
      "execution_count": null,
      "outputs": [
        {
          "output_type": "stream",
          "name": "stdout",
          "text": [
            "Drive already mounted at /content/drive; to attempt to forcibly remount, call drive.mount(\"/content/drive\", force_remount=True).\n"
          ]
        }
      ]
    },
    {
      "cell_type": "code",
      "execution_count": null,
      "metadata": {
        "id": "ThXaonngpya4"
      },
      "outputs": [],
      "source": [
        "import numpy as np\n",
        "import tensorflow as tf\n",
        "from tensorflow.keras.layers import Dense, Conv2D, MaxPooling2D, Flatten, Input, UpSampling2D, LeakyReLU, BatchNormalization, Activation, Add, Input, Conv2DTranspose\n",
        "from tensorflow.keras.models import Model\n",
        "from tensorflow.keras.initializers import HeNormal\n",
        "from skimage.color import lab2rgb, rgb2lab, rgb2gray\n",
        "import os\n",
        "import glob\n",
        "import cv2"
      ]
    },
    {
      "cell_type": "code",
      "execution_count": null,
      "metadata": {
        "id": "goLw9jnyp-hK"
      },
      "outputs": [],
      "source": [
        "# 定义数据集路径\n",
        "train_data_path = '/content/drive/MyDrive/train/images'"
      ]
    },
    {
      "cell_type": "code",
      "execution_count": null,
      "metadata": {
        "id": "of4mdQ9bpzRF"
      },
      "outputs": [],
      "source": [
        "class ImageColorizationDataGenerator(tf.keras.utils.Sequence):\n",
        "    def __init__(self, image_dir, image_size=(224, 224), batch_size=16):\n",
        "        self.image_dir = image_dir\n",
        "        self.image_size = image_size\n",
        "        self.batch_size = batch_size\n",
        "        self.image_files = glob.glob(os.path.join(image_dir, '*.jpg'))\n",
        "        self.on_epoch_end()\n",
        "\n",
        "    def __len__(self):\n",
        "        return int(np.floor(len(self.image_files) / self.batch_size))\n",
        "\n",
        "    def __getitem__(self, index):\n",
        "        batch_files = self.image_files[index * self.batch_size:(index + 1) * self.batch_size]\n",
        "        grayscale_images, color_images = self.__data_generation(batch_files)\n",
        "        return grayscale_images, color_images\n",
        "\n",
        "    def on_epoch_end(self):\n",
        "        np.random.shuffle(self.image_files)\n",
        "\n",
        "    def __data_generation(self, batch_files):\n",
        "        grayscale_images = []\n",
        "        color_images = []\n",
        "\n",
        "        for file_name in batch_files:\n",
        "            img = cv2.imread(file_name)\n",
        "            img = cv2.cvtColor(img, cv2.COLOR_BGR2RGB)\n",
        "            img = cv2.resize(img, self.image_size)\n",
        "\n",
        "            lab_img = rgb2lab(img)\n",
        "            l = lab_img[:, :, 0]\n",
        "            ab = lab_img[:, :, 1:] / 128.0  # normalize A and B channels to [-1, 1]\n",
        "\n",
        "            l = l[..., np.newaxis] / 100.0  # normalize L channel to [0, 1]\n",
        "\n",
        "            grayscale_images.append(l)\n",
        "            color_images.append(ab)\n",
        "\n",
        "        grayscale_images = np.array(grayscale_images)\n",
        "        color_images = np.array(color_images)\n",
        "\n",
        "        return grayscale_images, color_images"
      ]
    },
    {
      "cell_type": "code",
      "execution_count": null,
      "metadata": {
        "id": "W-63lw7jp6E-"
      },
      "outputs": [],
      "source": [
        "train_data_generator = ImageColorizationDataGenerator(train_data_path, batch_size=16)"
      ]
    },
    {
      "cell_type": "markdown",
      "source": [
        "第一版优化"
      ],
      "metadata": {
        "id": "T2m-LXmBoyrF"
      }
    },
    {
      "cell_type": "code",
      "source": [
        "def residual_block(x, filters, kernel_size=(3, 3), stride=1):\n",
        "    y = Conv2D(filters, kernel_size, strides=stride, padding='same')(x)\n",
        "    y = BatchNormalization()(y)\n",
        "    y = Activation('relu')(y)\n",
        "\n",
        "    y = Conv2D(filters, kernel_size, strides=stride, padding='same')(y)\n",
        "    y = BatchNormalization()(y)\n",
        "\n",
        "    if x.shape[-1] != filters:\n",
        "        x = Conv2D(filters, (1, 1), strides=stride, padding='same')(x)\n",
        "\n",
        "    out = Add()([x, y])\n",
        "    out = Activation('relu')(out)\n",
        "    return out"
      ],
      "metadata": {
        "id": "jUIbly9ml-rm"
      },
      "execution_count": null,
      "outputs": []
    },
    {
      "cell_type": "code",
      "source": [
        "def create_colorization_cnn(input_tensor):\n",
        "    \"\"\"构建优化的卷积神经网络部分\"\"\"\n",
        "    x = Conv2D(32, (3, 3), padding='same')(input_tensor)\n",
        "    x = BatchNormalization()(x)\n",
        "    x = Activation('relu')(x)\n",
        "    x = MaxPooling2D((2, 2), padding='same')(x)\n",
        "\n",
        "    x = residual_block(x, 64)\n",
        "    x = MaxPooling2D((2, 2), padding='same')(x)\n",
        "\n",
        "    x = residual_block(x, 128)\n",
        "    x = MaxPooling2D((2, 2), padding='same')(x)\n",
        "\n",
        "    x = residual_block(x, 128)\n",
        "\n",
        "    x = UpSampling2D((2, 2))(x)\n",
        "    x = residual_block(x, 64)\n",
        "\n",
        "    x = UpSampling2D((2, 2))(x)\n",
        "    x = residual_block(x, 32)\n",
        "\n",
        "    x = UpSampling2D((2, 2))(x)\n",
        "    output_tensor = Conv2D(2, (3, 3), activation='tanh', padding='same')(x)\n",
        "\n",
        "    return output_tensor\n"
      ],
      "metadata": {
        "id": "UeGPDaSymAfC"
      },
      "execution_count": null,
      "outputs": []
    },
    {
      "cell_type": "markdown",
      "source": [
        "原版"
      ],
      "metadata": {
        "id": "RtCU_S6to-o1"
      }
    },
    {
      "cell_type": "code",
      "execution_count": null,
      "metadata": {
        "id": "2x0YsssYpjzX"
      },
      "outputs": [],
      "source": [
        "# def create_colorization_cnn(input_tensor):\n",
        "#     \"\"\"构建卷积神经网络部分\"\"\"\n",
        "#     x = Conv2D(32, (3, 3), activation='relu', padding='same')(input_tensor)\n",
        "#     x = MaxPooling2D((2, 2), padding='same')(x)\n",
        "#     x = Conv2D(64, (3, 3), activation='relu', padding='same')(x)\n",
        "#     x = MaxPooling2D((2, 2), padding='same')(x)\n",
        "#     x = Conv2D(128, (3, 3), activation='relu', padding='same')(x)\n",
        "#     x = MaxPooling2D((2, 2), padding='same')(x)\n",
        "\n",
        "#     x = Conv2D(128, (3, 3), activation='relu', padding='same')(x)\n",
        "#     x = UpSampling2D((2, 2))(x)\n",
        "#     x = Conv2D(64, (3, 3), activation='relu', padding='same')(x)\n",
        "#     x = UpSampling2D((2, 2))(x)\n",
        "#     x = Conv2D(32, (3, 3), activation='relu', padding='same')(x)\n",
        "#     x = UpSampling2D((2, 2))(x)\n",
        "\n",
        "#     output_tensor = Conv2D(2, (3, 3), activation='tanh', padding='same')(x)\n",
        "#     return output_tensor"
      ]
    },
    {
      "cell_type": "code",
      "execution_count": null,
      "metadata": {
        "colab": {
          "base_uri": "https://localhost:8080/"
        },
        "id": "kyNH0XZ3pkp2",
        "outputId": "a95b9fc2-31b4-4436-ffc6-8a235af3cd43"
      },
      "outputs": [
        {
          "output_type": "stream",
          "name": "stdout",
          "text": [
            "Epoch 1/20\n",
            "353/353 [==============================] - 128s 343ms/step - loss: 0.0167 - accuracy: 0.6472\n",
            "Epoch 2/20\n",
            "353/353 [==============================] - 70s 199ms/step - loss: 0.0011 - accuracy: 0.6779\n",
            "Epoch 3/20\n",
            "353/353 [==============================] - 70s 197ms/step - loss: 7.7082e-04 - accuracy: 0.7499\n",
            "Epoch 4/20\n",
            "353/353 [==============================] - 71s 201ms/step - loss: 6.3011e-04 - accuracy: 0.7988\n",
            "Epoch 5/20\n",
            "353/353 [==============================] - 70s 199ms/step - loss: 5.5349e-04 - accuracy: 0.8088\n",
            "Epoch 6/20\n",
            "353/353 [==============================] - 69s 196ms/step - loss: 5.0581e-04 - accuracy: 0.8147\n",
            "Epoch 7/20\n",
            "353/353 [==============================] - 69s 196ms/step - loss: 4.7672e-04 - accuracy: 0.8188\n",
            "Epoch 8/20\n",
            "353/353 [==============================] - 70s 198ms/step - loss: 4.4341e-04 - accuracy: 0.8227\n",
            "Epoch 9/20\n",
            "353/353 [==============================] - 70s 198ms/step - loss: 4.2789e-04 - accuracy: 0.8253\n",
            "Epoch 10/20\n",
            "353/353 [==============================] - 70s 197ms/step - loss: 3.9995e-04 - accuracy: 0.8289\n",
            "Epoch 11/20\n",
            "353/353 [==============================] - 70s 197ms/step - loss: 3.8375e-04 - accuracy: 0.8315\n",
            "Epoch 12/20\n",
            "353/353 [==============================] - 70s 198ms/step - loss: 3.7023e-04 - accuracy: 0.8335\n",
            "Epoch 13/20\n",
            "353/353 [==============================] - 69s 196ms/step - loss: 3.5725e-04 - accuracy: 0.8361\n",
            "Epoch 14/20\n",
            "353/353 [==============================] - 69s 196ms/step - loss: 3.4830e-04 - accuracy: 0.8377\n",
            "Epoch 15/20\n",
            "353/353 [==============================] - 70s 198ms/step - loss: 3.3518e-04 - accuracy: 0.8405\n",
            "Epoch 16/20\n",
            "353/353 [==============================] - 70s 197ms/step - loss: 3.2503e-04 - accuracy: 0.8416\n",
            "Epoch 17/20\n",
            "353/353 [==============================] - 69s 197ms/step - loss: 3.1480e-04 - accuracy: 0.8438\n",
            "Epoch 18/20\n",
            "353/353 [==============================] - 69s 195ms/step - loss: 3.0194e-04 - accuracy: 0.8455\n",
            "Epoch 19/20\n",
            "353/353 [==============================] - 69s 196ms/step - loss: 2.9732e-04 - accuracy: 0.8466\n",
            "Epoch 20/20\n",
            "353/353 [==============================] - 71s 200ms/step - loss: 2.8381e-04 - accuracy: 0.8496\n"
          ]
        },
        {
          "output_type": "execute_result",
          "data": {
            "text/plain": [
              "<keras.src.callbacks.History at 0x7abfac553f40>"
            ]
          },
          "metadata": {},
          "execution_count": 20
        }
      ],
      "source": [
        "# 定义输入层，输入形状为224x224x1（灰度图）\n",
        "input_tensor = Input(shape=(224, 224, 1))\n",
        "\n",
        "# 调用函数构建卷积神经网络部分\n",
        "output_tensor = create_colorization_cnn(input_tensor)\n",
        "\n",
        "# 构建模型\n",
        "model = Model(inputs=input_tensor, outputs=output_tensor)\n",
        "\n",
        "# 编译模型\n",
        "model.compile(optimizer=tf.keras.optimizers.Adam(learning_rate=1e-3), loss='mse', metrics=['accuracy'])\n",
        "\n",
        "# 训练模型\n",
        "model.fit(train_data_generator, epochs=20)"
      ]
    },
    {
      "cell_type": "code",
      "execution_count": null,
      "metadata": {
        "id": "ZGy-Uvl_4C2B",
        "colab": {
          "base_uri": "https://localhost:8080/"
        },
        "outputId": "c627b394-aad0-400f-e669-3c36b1b18082"
      },
      "outputs": [
        {
          "output_type": "stream",
          "name": "stdout",
          "text": [
            "1/1 [==============================] - 1s 842ms/step\n",
            "1/1 [==============================] - 0s 22ms/step\n",
            "1/1 [==============================] - 0s 21ms/step\n",
            "1/1 [==============================] - 0s 21ms/step\n",
            "1/1 [==============================] - 0s 21ms/step\n",
            "1/1 [==============================] - 0s 24ms/step\n",
            "1/1 [==============================] - 0s 22ms/step\n",
            "1/1 [==============================] - 0s 21ms/step\n",
            "1/1 [==============================] - 0s 21ms/step\n",
            "1/1 [==============================] - 0s 23ms/step\n",
            "1/1 [==============================] - 0s 22ms/step\n",
            "1/1 [==============================] - 0s 21ms/step\n",
            "1/1 [==============================] - 0s 22ms/step\n",
            "1/1 [==============================] - 0s 21ms/step\n",
            "1/1 [==============================] - 0s 21ms/step\n",
            "1/1 [==============================] - 0s 22ms/step\n",
            "1/1 [==============================] - 0s 20ms/step\n",
            "1/1 [==============================] - 0s 21ms/step\n",
            "1/1 [==============================] - 0s 22ms/step\n",
            "1/1 [==============================] - 0s 22ms/step\n",
            "1/1 [==============================] - 0s 22ms/step\n",
            "1/1 [==============================] - 0s 21ms/step\n",
            "1/1 [==============================] - 0s 21ms/step\n",
            "1/1 [==============================] - 0s 21ms/step\n",
            "1/1 [==============================] - 0s 21ms/step\n",
            "1/1 [==============================] - 0s 21ms/step\n",
            "1/1 [==============================] - 0s 21ms/step\n",
            "1/1 [==============================] - 0s 21ms/step\n",
            "1/1 [==============================] - 0s 23ms/step\n",
            "1/1 [==============================] - 0s 21ms/step\n",
            "1/1 [==============================] - 0s 21ms/step\n",
            "1/1 [==============================] - 0s 23ms/step\n",
            "1/1 [==============================] - 0s 22ms/step\n",
            "1/1 [==============================] - 0s 21ms/step\n",
            "1/1 [==============================] - 0s 21ms/step\n",
            "1/1 [==============================] - 0s 21ms/step\n",
            "1/1 [==============================] - 0s 21ms/step\n",
            "1/1 [==============================] - 0s 21ms/step\n",
            "1/1 [==============================] - 0s 22ms/step\n",
            "1/1 [==============================] - 0s 22ms/step\n",
            "1/1 [==============================] - 0s 21ms/step\n",
            "1/1 [==============================] - 0s 21ms/step\n",
            "1/1 [==============================] - 0s 21ms/step\n",
            "1/1 [==============================] - 0s 21ms/step\n",
            "1/1 [==============================] - 0s 21ms/step\n",
            "1/1 [==============================] - 0s 22ms/step\n",
            "1/1 [==============================] - 0s 21ms/step\n",
            "1/1 [==============================] - 0s 23ms/step\n",
            "1/1 [==============================] - 0s 22ms/step\n",
            "1/1 [==============================] - 0s 22ms/step\n"
          ]
        }
      ],
      "source": [
        "import os\n",
        "import glob\n",
        "import numpy as np\n",
        "import cv2\n",
        "from keras.models import load_model\n",
        "from skimage.color import lab2rgb\n",
        "\n",
        "# 定义测试图像路径\n",
        "test_data_path = \"/content/drive/MyDrive/test_color/images\"\n",
        "\n",
        "# 保存预测结果的路径\n",
        "save_path = \"/content/drive/MyDrive/content/sample_data/\"\n",
        "\n",
        "# 加载测试图像文件列表\n",
        "test_image_files = glob.glob(os.path.join(test_data_path, '*.jpg'))\n",
        "\n",
        "# 遍历测试图像并进行预测\n",
        "for file_name in test_image_files:\n",
        "    # 读取测试图像\n",
        "    img = cv2.imread(file_name)\n",
        "    img = cv2.cvtColor(img, cv2.COLOR_BGR2RGB)\n",
        "\n",
        "    # 将图像转换为灰度图并调整大小\n",
        "    img_gray = cv2.cvtColor(img, cv2.COLOR_RGB2GRAY)\n",
        "    img_gray = cv2.resize(img_gray, (224, 224))\n",
        "    img_gray = img_gray[..., np.newaxis] / 255.0  # 归一化到 [0, 1] 范围内\n",
        "\n",
        "    # 扩展维度以匹配模型输入\n",
        "    img_gray_input = np.expand_dims(img_gray, axis=0)\n",
        "\n",
        "    # 使用模型进行预测\n",
        "    predicted_ab = model.predict(img_gray_input)\n",
        "\n",
        "    # 反归一化，恢复原始尺度的AB通道\n",
        "    predicted_ab = predicted_ab * 128.0\n",
        "\n",
        "    # 将灰度图与预测的AB通道合并成LAB图像\n",
        "    lab_image = np.zeros((224, 224, 3))\n",
        "    lab_image[:,:,0] = img_gray[:,:,0] * 100.0  # L通道\n",
        "    lab_image[:,:,1:] = predicted_ab\n",
        "\n",
        "    # 转换为RGB图像\n",
        "    predicted_rgb = lab2rgb(lab_image)\n",
        "\n",
        "    # 保存预测结果\n",
        "    save_name = os.path.join(save_path, os.path.basename(file_name))\n",
        "    cv2.imwrite(save_name, cv2.cvtColor((predicted_rgb * 255).astype(np.uint8), cv2.COLOR_RGB2BGR))\n"
      ]
    },
    {
      "cell_type": "code",
      "source": [
        "import os\n",
        "from PIL import Image\n",
        "import numpy as np\n",
        "\n",
        "# 文件夹路径，包含多个JPEG图像\n",
        "folder_path = '/content/drive/MyDrive/content/sample_data'\n",
        "\n",
        "# 获取文件夹中的所有JPEG文件\n",
        "image_files = [f for f in os.listdir(folder_path) if f.endswith('.jpg')]\n",
        "\n",
        "# 读取所有JPEG图像并转换为NumPy数组\n",
        "image_arrays = []\n",
        "for image_file in image_files:\n",
        "    image_path = os.path.join(folder_path, image_file)\n",
        "    image = Image.open(image_path)\n",
        "    image_array = np.array(image)\n",
        "    image_arrays.append(image_array)\n",
        "\n",
        "# 将所有图像数组堆叠到一个数组中\n",
        "all_images_array = np.stack(image_arrays)\n",
        "\n",
        "# 保存NumPy数组为npy文件\n",
        "npy_path = 'images.npy'\n",
        "np.save(npy_path, all_images_array)\n",
        "\n",
        "print(f\"All images saved as NumPy array at {npy_path}\")\n"
      ],
      "metadata": {
        "id": "YV8TYXuF53MP",
        "colab": {
          "base_uri": "https://localhost:8080/"
        },
        "outputId": "236bdafa-8fe7-4335-d7eb-d3b632e7e530"
      },
      "execution_count": null,
      "outputs": [
        {
          "output_type": "stream",
          "name": "stdout",
          "text": [
            "All images saved as NumPy array at images.npy\n"
          ]
        }
      ]
    }
  ],
  "metadata": {
    "accelerator": "GPU",
    "colab": {
      "gpuType": "L4",
      "provenance": [],
      "machine_shape": "hm",
      "include_colab_link": true
    },
    "kernelspec": {
      "display_name": "Python 3",
      "name": "python3"
    },
    "language_info": {
      "name": "python"
    }
  },
  "nbformat": 4,
  "nbformat_minor": 0
}